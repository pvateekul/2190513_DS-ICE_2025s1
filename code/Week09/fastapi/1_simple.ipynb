{
 "cells": [
  {
   "cell_type": "code",
   "execution_count": null,
   "metadata": {},
   "outputs": [],
   "source": [
    "%pip install fastapi uvicorn pyngrok pydantic"
   ]
  },
  {
   "cell_type": "code",
   "execution_count": null,
   "metadata": {},
   "outputs": [],
   "source": [
    "# simple fastapi example\n",
    "\n",
    "from fastapi import FastAPI\n",
    "\n",
    "app = FastAPI()\n",
    "\n",
    "@app.get(\"/\")\n",
    "async def root():\n",
    "    return {\"message\": \"My first FastAPI service\"}"
   ]
  },
  {
   "cell_type": "code",
   "execution_count": null,
   "metadata": {},
   "outputs": [],
   "source": [
    "from pyngrok import ngrok\n",
    "import uvicorn\n",
    "\n",
    "port = 8000\n",
    "\n",
    "ngrok.set_auth_token(\"YOUR_NGROK_TOKEN\")\n",
    "ngrok_tunnel = ngrok.connect(port)\n",
    "\n",
    "print('Public URL:', ngrok_tunnel.public_url)\n",
    "\n",
    "config = uvicorn.Config(app, port)\n",
    "server = uvicorn.Server(config)\n",
    "\n",
    "await server.serve()"
   ]
  }
 ],
 "metadata": {
  "language_info": {
   "name": "python"
  }
 },
 "nbformat": 4,
 "nbformat_minor": 2
}
