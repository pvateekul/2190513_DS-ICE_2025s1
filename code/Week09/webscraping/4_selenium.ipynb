{
  "cells": [
    {
      "cell_type": "markdown",
      "metadata": {
        "id": "vsOfEXk5TMrA"
      },
      "source": [
        "# Data Extraction with Selenium\n",
        "In this tutorial, we discuss how to use Selenium to extract data from the web.  Please see https://selenium-python.readthedocs.io for more details."
      ]
    },
    {
      "cell_type": "markdown",
      "metadata": {
        "id": "FY7-J3C7TMrE"
      },
      "source": [
        "## Installation\n",
        "We first install selenium package."
      ]
    },
    {
      "cell_type": "code",
      "source": [
        "%pip install selenium"
      ],
      "metadata": {
        "id": "S3tiKNt-TX19"
      },
      "execution_count": null,
      "outputs": []
    },
    {
      "cell_type": "code",
      "execution_count": null,
      "metadata": {
        "id": "6M32yndATMrF"
      },
      "outputs": [],
      "source": [
        "from selenium import webdriver\n",
        "import time\n",
        "import os"
      ]
    },
    {
      "cell_type": "code",
      "execution_count": null,
      "metadata": {
        "id": "lIADu14aTMrH"
      },
      "outputs": [],
      "source": [
        "chrome_options = webdriver.ChromeOptions()\n",
        "chrome_options.add_argument(\"--window-size=1920,1080\")\n",
        "\n",
        "# Uncomment these two lines below if you run in colab. Though, you won't get interactive browser.\n",
        "# chrome_options.add_argument('--headless=new')\n",
        "# chrome_options.add_argument('--no-sandbox')\n",
        "\n",
        "# Use a realistic User-Agent string for Chrome on Windows 10 (update if you want)\n",
        "user_agent = (\"Mozilla/5.0 (Windows NT 10.0; Win64; x64) \"\n",
        "              \"AppleWebKit/537.36 (KHTML, like Gecko) \"\n",
        "              \"Chrome/117.0.0.0 Safari/537.36\")\n",
        "chrome_options.add_argument(f\"user-agent={user_agent}\")\n",
        "\n",
        "browser = webdriver.Chrome(options=chrome_options)"
      ]
    },
    {
      "cell_type": "markdown",
      "metadata": {
        "id": "fYzI9XkITMrH"
      },
      "source": [
        "## Browsing a webpage\n",
        "Once the browser starts, we can tell it to visit a webpage."
      ]
    },
    {
      "cell_type": "code",
      "execution_count": null,
      "metadata": {
        "tags": [],
        "id": "slUyYCarTMrI"
      },
      "outputs": [],
      "source": [
        "url = 'https://www.duckduckgo.com'"
      ]
    },
    {
      "cell_type": "code",
      "execution_count": null,
      "metadata": {
        "id": "7hm5ES43TMrJ"
      },
      "outputs": [],
      "source": [
        "browser.get(url=url)"
      ]
    },
    {
      "cell_type": "code",
      "execution_count": null,
      "metadata": {
        "id": "jAYuj6cJTMrK"
      },
      "outputs": [],
      "source": [
        "html = browser.execute_script(\"return document.documentElement.outerHTML\")\n",
        "html[:3000]"
      ]
    },
    {
      "cell_type": "markdown",
      "metadata": {
        "id": "OEykBec-TMrL"
      },
      "source": [
        "## Interact with a webpage\n",
        "When the page is loaded, we can interact with all elements in the webpage.  In this example, we will perform a search for a particular keyword in Google.  We will have to locate the correct element and then send the proper keys."
      ]
    },
    {
      "cell_type": "code",
      "execution_count": null,
      "metadata": {
        "tags": [],
        "id": "dtqcLIWeTMrM"
      },
      "outputs": [],
      "source": [
        "from selenium.webdriver.common.by import By"
      ]
    },
    {
      "cell_type": "code",
      "execution_count": null,
      "metadata": {
        "id": "CsU9z26GTMrM"
      },
      "outputs": [],
      "source": [
        "q_element = browser.find_element(By.CSS_SELECTOR, 'input[name=q]')\n",
        "q_element.clear()\n",
        "q_element.send_keys('ประเทศไทย')\n",
        "q_element.send_keys(u'\\ue007')"
      ]
    },
    {
      "cell_type": "markdown",
      "metadata": {
        "id": "MfSsuf-tTMrM"
      },
      "source": [
        "## Navigate the webpage\n",
        "We can navigate the current webpage, similar to Beautiful Soup.  Selenium supports several navigation approaches."
      ]
    },
    {
      "cell_type": "code",
      "execution_count": null,
      "metadata": {
        "id": "7LX7SWO5TMrN"
      },
      "outputs": [],
      "source": [
        "# Wait 5 seconds for page to load\n",
        "browser.implicitly_wait(5)\n",
        "\n",
        "all_link = browser.find_elements(By.CSS_SELECTOR, 'li[data-layout=organic] h2 a')"
      ]
    },
    {
      "cell_type": "code",
      "execution_count": null,
      "metadata": {
        "id": "V3dH_i-8TMrN"
      },
      "outputs": [],
      "source": [
        "for link in all_link:\n",
        "    print('[link text]', link.text)\n",
        "    print('[link href]', link.get_attribute('href'))\n",
        "    print('---')"
      ]
    },
    {
      "cell_type": "code",
      "execution_count": null,
      "metadata": {
        "id": "biCw-BYOTMrO"
      },
      "outputs": [],
      "source": [
        "all_link[0].click()"
      ]
    },
    {
      "cell_type": "code",
      "execution_count": null,
      "metadata": {
        "tags": [],
        "id": "c4yTW-4HTMrO"
      },
      "outputs": [],
      "source": [
        "all_toc = browser.find_elements(By.CSS_SELECTOR, 'li[class^=\"vector-toc-list-item\"]')"
      ]
    },
    {
      "cell_type": "code",
      "execution_count": null,
      "metadata": {
        "id": "-XU3Kv4ITMrP"
      },
      "outputs": [],
      "source": [
        "for toc in all_toc:\n",
        "    a = toc.find_element(By.CSS_SELECTOR, 'a')\n",
        "    print('[text]', a.text)\n",
        "    print('[class]', toc.get_attribute('class'))\n",
        "    print('[href]', a.get_attribute('href'))\n",
        "    print('---')"
      ]
    },
    {
      "cell_type": "code",
      "execution_count": null,
      "metadata": {
        "id": "s_Ks80A2TMrP"
      },
      "outputs": [],
      "source": [
        "link = all_toc[2].find_element(By.CSS_SELECTOR, 'a')\n",
        "\n",
        "print('[text]', link.text)\n",
        "print('[class]', link.get_attribute('class'))\n",
        "print('[href]', link.get_attribute('href'))\n",
        "\n",
        "link.click()"
      ]
    },
    {
      "cell_type": "markdown",
      "metadata": {
        "id": "_lJ_6ROATMrP"
      },
      "source": [
        "## End browsing session"
      ]
    },
    {
      "cell_type": "code",
      "execution_count": null,
      "metadata": {
        "tags": [],
        "id": "JTo65eclTMrP"
      },
      "outputs": [],
      "source": [
        "browser.quit()"
      ]
    }
  ],
  "metadata": {
    "kernelspec": {
      "display_name": "Python 3 (ipykernel)",
      "language": "python",
      "name": "python3"
    },
    "language_info": {
      "codemirror_mode": {
        "name": "ipython",
        "version": 3
      },
      "file_extension": ".py",
      "mimetype": "text/x-python",
      "name": "python",
      "nbconvert_exporter": "python",
      "pygments_lexer": "ipython3",
      "version": "3.12.4"
    },
    "toc": {
      "base_numbering": 1,
      "nav_menu": {},
      "number_sections": true,
      "sideBar": true,
      "skip_h1_title": false,
      "title_cell": "Table of Contents",
      "title_sidebar": "Contents",
      "toc_cell": false,
      "toc_position": {},
      "toc_section_display": true,
      "toc_window_display": false
    },
    "varInspector": {
      "cols": {
        "lenName": 16,
        "lenType": 16,
        "lenVar": 40
      },
      "kernels_config": {
        "python": {
          "delete_cmd_postfix": "",
          "delete_cmd_prefix": "del ",
          "library": "var_list.py",
          "varRefreshCmd": "print(var_dic_list())"
        },
        "r": {
          "delete_cmd_postfix": ") ",
          "delete_cmd_prefix": "rm(",
          "library": "var_list.r",
          "varRefreshCmd": "cat(var_dic_list()) "
        }
      },
      "types_to_exclude": [
        "module",
        "function",
        "builtin_function_or_method",
        "instance",
        "_Feature"
      ],
      "window_display": false
    },
    "colab": {
      "provenance": []
    }
  },
  "nbformat": 4,
  "nbformat_minor": 0
}
