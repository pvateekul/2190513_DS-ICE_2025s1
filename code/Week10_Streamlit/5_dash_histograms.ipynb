{
  "cells": [
    {
      "cell_type": "code",
      "execution_count": null,
      "metadata": {
        "id": "81-Kq2t2wXKG"
      },
      "outputs": [],
      "source": [
        "%pip install pyngrok dash plotly"
      ]
    },
    {
      "cell_type": "code",
      "execution_count": null,
      "metadata": {
        "id": "epOFW6RWk5mI"
      },
      "outputs": [],
      "source": [
        "from dash import Dash, dcc, html, Input, Output\n",
        "from sklearn import datasets\n",
        "import plotly.express as px\n",
        "import pandas as pd\n",
        "\n",
        "iris = datasets.load_iris()\n",
        "df = pd.DataFrame(iris.data, columns=iris.feature_names)\n",
        "\n",
        "app = Dash(__name__)\n",
        "\n",
        "app.layout = html.Div([\n",
        "    dcc.Graph(id='graph'),\n",
        "    dcc.Slider(id=\"bins\", min=1, max=10, value=2, step=1,\n",
        "               marks={str(x):str(x) for x in range(1,11)})\n",
        "])\n",
        "\n",
        "@app.callback(\n",
        "    Output('graph', 'figure'),\n",
        "    Input(component_id='bins', component_property='value'))\n",
        "def update_figure(bins):\n",
        "    fig = px.histogram(df, x='petal length (cm)', nbins=bins)\n",
        "    return fig\n",
        "\n",
        "if __name__ == \"__main__\":\n",
        "    app.run(debug=True)\n"
      ]
    },
    {
      "cell_type": "code",
      "execution_count": null,
      "metadata": {
        "id": "9Fk_e3JVlf4p"
      },
      "outputs": [],
      "source": [
        "from pyngrok import ngrok\n",
        "\n",
        "ngrok.set_auth_token(\"YOUR_NGROK_TOKEN\")\n",
        "ngrok_tunnel = ngrok.connect(8050)\n",
        "\n",
        "print('Public URL:', ngrok_tunnel.public_url)"
      ]
    }
  ],
  "metadata": {
    "colab": {
      "provenance": []
    },
    "kernelspec": {
      "display_name": "Python 3",
      "name": "python3"
    },
    "language_info": {
      "name": "python"
    }
  },
  "nbformat": 4,
  "nbformat_minor": 0
}
